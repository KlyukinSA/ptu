{
  "nbformat": 4,
  "nbformat_minor": 0,
  "metadata": {
    "colab": {
      "provenance": []
    },
    "kernelspec": {
      "name": "python3",
      "display_name": "Python 3"
    },
    "language_info": {
      "name": "python"
    }
  },
  "cells": [
    {
      "cell_type": "markdown",
      "source": [
        "Классификация дорожных знаков нa базе сверточной\n",
        "неиронной сети. Построить алгоритм классификации дорожных знаков.\n",
        "Использовать датасет: https://www.kaggle.com/datasets/dmitryyemelyanov/chinese-traffic-signs/discussion?sort=undefined\n",
        "Алгоритм должен классифицировать знаки типов: 3,4,5,7,11,16,17,26,30,35,43,55. Необходимо использовать аугментацию данных.\n"
      ],
      "metadata": {
        "id": "FuZnG3C7Rvac"
      }
    },
    {
      "cell_type": "code",
      "execution_count": 6,
      "metadata": {
        "colab": {
          "base_uri": "https://localhost:8080/"
        },
        "id": "FyJhlwgCwdeT",
        "outputId": "9feb261d-4582-4d4a-c337-2b31dce0efc1"
      },
      "outputs": [
        {
          "output_type": "stream",
          "name": "stdout",
          "text": [
            "Warning: Looks like you're using an outdated `kagglehub` version, please consider updating (latest version: 0.3.3)\n",
            "Downloading from https://www.kaggle.com/api/v1/datasets/download/dmitryyemelyanov/chinese-traffic-signs?dataset_version_number=2...\n"
          ]
        },
        {
          "output_type": "stream",
          "name": "stderr",
          "text": [
            "100%|██████████| 185M/185M [00:01<00:00, 117MB/s]"
          ]
        },
        {
          "output_type": "stream",
          "name": "stdout",
          "text": [
            "Extracting files...\n"
          ]
        },
        {
          "output_type": "stream",
          "name": "stderr",
          "text": [
            "\n"
          ]
        }
      ],
      "source": [
        "import kagglehub\n",
        "path = kagglehub.dataset_download('dmitryyemelyanov/chinese-traffic-signs')"
      ]
    },
    {
      "cell_type": "code",
      "source": [
        "path='/root/.cache/kagglehub/datasets/dmitryyemelyanov/chinese-traffic-signs/versions/2'"
      ],
      "metadata": {
        "id": "94Sw7AM9xQO_"
      },
      "execution_count": 1,
      "outputs": []
    },
    {
      "cell_type": "code",
      "source": [
        "# small_shape=(224, 224)\n",
        "small_shape=(48, 48)"
      ],
      "metadata": {
        "id": "dwhtm4s-1ol5"
      },
      "execution_count": 7,
      "outputs": []
    },
    {
      "cell_type": "code",
      "source": [
        "import os\n",
        "import numpy as np\n",
        "import pandas as pd\n",
        "from PIL import Image\n",
        "from sklearn.model_selection import train_test_split\n",
        "from keras.utils import to_categorical\n",
        "import warnings\n",
        "warnings.filterwarnings('ignore')\n",
        "from tensorflow.keras.models import Sequential\n",
        "from tensorflow.keras.layers import Dense ,Flatten ,Conv2D ,MaxPooling2D ,Dropout ,BatchNormalization\n",
        "from tensorflow.keras.optimizers import Adam\n",
        "from tensorflow.keras.callbacks import EarlyStopping ,ReduceLROnPlateau ,ModelCheckpoint\n",
        "from keras.applications.mobilenet_v2 import MobileNetV2\n",
        "from sklearn.metrics import confusion_matrix\n",
        "import matplotlib.pyplot as plt\n",
        "import seaborn as sns\n",
        "from sklearn.metrics import classification_report\n",
        "import tensorflow as tf\n",
        "from tensorflow.keras import datasets, layers, models\n",
        "import matplotlib.pyplot as plt\n",
        "import numpy as np\n",
        "import tensorflow as tf\n",
        "import tensorflow_datasets as tfds\n",
        "import numpy as np"
      ],
      "metadata": {
        "id": "J2c6Nlljwrxx"
      },
      "execution_count": 8,
      "outputs": []
    },
    {
      "cell_type": "code",
      "source": [
        "data_dir = path+'/images/'\n",
        "df = pd.read_csv(path+\"/annotations.csv\")"
      ],
      "metadata": {
        "id": "lsTVDXbIxHWU"
      },
      "execution_count": 9,
      "outputs": []
    },
    {
      "cell_type": "code",
      "source": [
        "file_paths = df['file_name'].values\n",
        "images = []\n",
        "for file_path in file_paths:\n",
        "    image_path = os.path.join(data_dir, file_path)\n",
        "    image = Image.open(image_path).resize(small_shape)\n",
        "    images.append(np.array(image))\n",
        "\n",
        "labels = df['category'].values\n",
        "\n",
        "images = np.array(images)\n",
        "labels = np.array(labels)"
      ],
      "metadata": {
        "id": "Wz5mpVOuw9Sf"
      },
      "execution_count": 33,
      "outputs": []
    },
    {
      "cell_type": "code",
      "source": [
        "df.columns"
      ],
      "metadata": {
        "colab": {
          "base_uri": "https://localhost:8080/"
        },
        "id": "AmogOnb-cdzw",
        "outputId": "3b53aee1-eb6b-4042-ce64-d00322b3370f"
      },
      "execution_count": null,
      "outputs": [
        {
          "output_type": "execute_result",
          "data": {
            "text/plain": [
              "Index(['file_name', 'width', 'height', 'x1', 'y1', 'x2', 'y2', 'category'], dtype='object')"
            ]
          },
          "metadata": {},
          "execution_count": 170
        }
      ]
    },
    {
      "cell_type": "code",
      "source": [
        "images[0]"
      ],
      "metadata": {
        "colab": {
          "base_uri": "https://localhost:8080/",
          "height": 87
        },
        "id": "L4e9m6PUebZE",
        "outputId": "4782b5f8-3efa-4569-9617-7351ce23726d"
      },
      "execution_count": 34,
      "outputs": [
        {
          "output_type": "execute_result",
          "data": {
            "text/plain": [
              "array([[[132, 114,  98],\n",
              "        [132, 113,  98],\n",
              "        [131, 113,  98],\n",
              "        ...,\n",
              "        [103,  89,  78],\n",
              "        [102,  88,  76],\n",
              "        [103,  89,  76]],\n",
              "\n",
              "       [[134, 113,  99],\n",
              "        [132, 113,  98],\n",
              "        [132, 113,  97],\n",
              "        ...,\n",
              "        [105,  91,  77],\n",
              "        [104,  90,  78],\n",
              "        [104,  90,  78]],\n",
              "\n",
              "       [[132, 114,  98],\n",
              "        [132, 114,  98],\n",
              "        [131, 113,  98],\n",
              "        ...,\n",
              "        [105,  91,  79],\n",
              "        [104,  91,  79],\n",
              "        [105,  91,  81]],\n",
              "\n",
              "       ...,\n",
              "\n",
              "       [[173,  33,  80],\n",
              "        [168,  85, 105],\n",
              "        [133,  87,  91],\n",
              "        ...,\n",
              "        [ 80,  72,  67],\n",
              "        [ 71,  68,  61],\n",
              "        [ 93,  85,  75]],\n",
              "\n",
              "       [[162,  33,  74],\n",
              "        [164,  75,  92],\n",
              "        [135,  80,  85],\n",
              "        ...,\n",
              "        [ 82,  75,  67],\n",
              "        [ 70,  67,  59],\n",
              "        [ 91,  85,  76]],\n",
              "\n",
              "       [[157,  25,  60],\n",
              "        [162,  74,  90],\n",
              "        [137,  72,  80],\n",
              "        ...,\n",
              "        [ 84,  76,  67],\n",
              "        [ 67,  65,  58],\n",
              "        [ 91,  85,  75]]], dtype=uint8)"
            ],
            "text/html": [
              "<style>\n",
              "      .ndarray_repr .ndarray_raw_data {\n",
              "        display: none;\n",
              "      }\n",
              "      .ndarray_repr.show_array .ndarray_raw_data {\n",
              "        display: block;\n",
              "      }\n",
              "      .ndarray_repr.show_array .ndarray_image_preview {\n",
              "        display: none;\n",
              "      }\n",
              "      </style>\n",
              "      <div id=\"id-373da96c-d93c-4d9a-8c24-0eb110350679\" class=\"ndarray_repr\"><pre>ndarray (48, 48, 3) <button style=\"padding: 0 2px;\">show data</button></pre><img src=\"data:image/png;base64,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\" class=\"ndarray_image_preview\" /><pre class=\"ndarray_raw_data\">array([[[132, 114,  98],\n",
              "        [132, 113,  98],\n",
              "        [131, 113,  98],\n",
              "        ...,\n",
              "        [103,  89,  78],\n",
              "        [102,  88,  76],\n",
              "        [103,  89,  76]],\n",
              "\n",
              "       [[134, 113,  99],\n",
              "        [132, 113,  98],\n",
              "        [132, 113,  97],\n",
              "        ...,\n",
              "        [105,  91,  77],\n",
              "        [104,  90,  78],\n",
              "        [104,  90,  78]],\n",
              "\n",
              "       [[132, 114,  98],\n",
              "        [132, 114,  98],\n",
              "        [131, 113,  98],\n",
              "        ...,\n",
              "        [105,  91,  79],\n",
              "        [104,  91,  79],\n",
              "        [105,  91,  81]],\n",
              "\n",
              "       ...,\n",
              "\n",
              "       [[173,  33,  80],\n",
              "        [168,  85, 105],\n",
              "        [133,  87,  91],\n",
              "        ...,\n",
              "        [ 80,  72,  67],\n",
              "        [ 71,  68,  61],\n",
              "        [ 93,  85,  75]],\n",
              "\n",
              "       [[162,  33,  74],\n",
              "        [164,  75,  92],\n",
              "        [135,  80,  85],\n",
              "        ...,\n",
              "        [ 82,  75,  67],\n",
              "        [ 70,  67,  59],\n",
              "        [ 91,  85,  76]],\n",
              "\n",
              "       [[157,  25,  60],\n",
              "        [162,  74,  90],\n",
              "        [137,  72,  80],\n",
              "        ...,\n",
              "        [ 84,  76,  67],\n",
              "        [ 67,  65,  58],\n",
              "        [ 91,  85,  75]]], dtype=uint8)</pre></div><script>\n",
              "      (() => {\n",
              "      const titles = ['show data', 'hide data'];\n",
              "      let index = 0\n",
              "      document.querySelector('#id-373da96c-d93c-4d9a-8c24-0eb110350679 button').onclick = (e) => {\n",
              "        document.querySelector('#id-373da96c-d93c-4d9a-8c24-0eb110350679').classList.toggle('show_array');\n",
              "        index = (++index) % 2;\n",
              "        document.querySelector('#id-373da96c-d93c-4d9a-8c24-0eb110350679 button').textContent = titles[index];\n",
              "        e.preventDefault();\n",
              "        e.stopPropagation();\n",
              "      }\n",
              "      })();\n",
              "    </script>"
            ]
          },
          "metadata": {},
          "execution_count": 34
        }
      ]
    },
    {
      "cell_type": "markdown",
      "source": [
        "оставим только заданные типы знаков"
      ],
      "metadata": {
        "id": "52N8tEgMycP8"
      }
    },
    {
      "cell_type": "code",
      "source": [
        "remain=[3,4,5,7,11,16,17,26,30,35,43,55]\n",
        "a=[index for index,value in enumerate(labels) if value in remain]\n",
        "inds=np.array(a, dtype=int)\n",
        "\n",
        "images = images[inds]\n",
        "labels = labels[inds]"
      ],
      "metadata": {
        "id": "62fcsJCRxgXp"
      },
      "execution_count": 35,
      "outputs": []
    },
    {
      "cell_type": "code",
      "source": [
        "index_dict = {value: index for index, value in enumerate(remain)}\n",
        "labels=[index_dict[v] for v in labels]\n",
        "\n",
        "num_classes = len(remain)\n",
        "labels = to_categorical(labels, num_classes=num_classes)\n",
        "# labels = tf.one_hot(labels.astype(np.int32), depth=num_classes)"
      ],
      "metadata": {
        "id": "R_1f89Hk5Yd0"
      },
      "execution_count": 36,
      "outputs": []
    },
    {
      "cell_type": "code",
      "source": [
        "images = images / 255"
      ],
      "metadata": {
        "id": "a7XGk4h606QZ"
      },
      "execution_count": 37,
      "outputs": []
    },
    {
      "cell_type": "code",
      "source": [
        "labels[-10:-1]"
      ],
      "metadata": {
        "colab": {
          "base_uri": "https://localhost:8080/"
        },
        "id": "ax_WElsuIgXo",
        "outputId": "b6a7efd7-68b9-4b21-828f-932143c7f6e2"
      },
      "execution_count": 38,
      "outputs": [
        {
          "output_type": "execute_result",
          "data": {
            "text/plain": [
              "array([[0., 0., 0., 0., 0., 0., 0., 0., 0., 0., 0., 1.],\n",
              "       [0., 0., 0., 0., 0., 0., 0., 0., 0., 0., 0., 1.],\n",
              "       [0., 0., 0., 0., 0., 0., 0., 0., 0., 0., 0., 1.],\n",
              "       [0., 0., 0., 0., 0., 0., 0., 0., 0., 0., 0., 1.],\n",
              "       [0., 0., 0., 0., 0., 0., 0., 0., 0., 0., 0., 1.],\n",
              "       [0., 0., 0., 0., 0., 0., 0., 0., 0., 0., 0., 1.],\n",
              "       [0., 0., 0., 0., 0., 0., 0., 0., 0., 0., 0., 1.],\n",
              "       [0., 0., 0., 0., 0., 0., 0., 0., 0., 0., 0., 1.],\n",
              "       [0., 0., 0., 0., 0., 0., 0., 0., 0., 0., 0., 1.]])"
            ]
          },
          "metadata": {},
          "execution_count": 38
        }
      ]
    },
    {
      "cell_type": "code",
      "source": [
        "X_train, X_test, y_train, y_test = train_test_split(images, labels, test_size=0.2, random_state=42)"
      ],
      "metadata": {
        "id": "XGSkAnhszcLe"
      },
      "execution_count": 39,
      "outputs": []
    },
    {
      "cell_type": "code",
      "source": [
        "data_augmentation = tf.keras.Sequential([\n",
        "  layers.RandomTranslation(0.05, 0.05),\n",
        "  # layers.RandomZoom((-0.2, -0.1)),\n",
        "  layers.RandomRotation(0.05),\n",
        "  # layers.RandomContrast(0.05),\n",
        "  # layers.RandomBrightness(0.1)\n",
        "])"
      ],
      "metadata": {
        "id": "KF1bI-Pzysv1"
      },
      "execution_count": 45,
      "outputs": []
    },
    {
      "cell_type": "markdown",
      "source": [
        "увеличение RandomBrightness приводит к кратному уменьшению val_acc"
      ],
      "metadata": {
        "id": "7wwFZCMeia0p"
      }
    },
    {
      "cell_type": "code",
      "source": [
        "model = tf.keras.models.Sequential([\n",
        "    tf.keras.layers.Conv2D(32, (3,3), strides=(1,1),\n",
        "                                      padding='same',\n",
        "                                      activation='relu',\n",
        "                                      input_shape=(small_shape[0], small_shape[1], 3)),\n",
        "    tf.keras.layers.MaxPool2D(),\n",
        "    tf.keras.layers.Conv2D(64, (3,3), strides=(1,1),\n",
        "                                      padding='same',\n",
        "                                      activation='relu'),\n",
        "    tf.keras.layers.MaxPool2D(),\n",
        "    tf.keras.layers.Conv2D(128, (3,3), strides=(1,1),\n",
        "                                  padding='same',\n",
        "                                  activation='relu'),\n",
        "    tf.keras.layers.MaxPool2D(),\n",
        "    tf.keras.layers.Dropout(0.2),\n",
        "    tf.keras.layers.Flatten(),\n",
        "    tf.keras.layers.Dense(128, activation='relu'),\n",
        "    tf.keras.layers.Dropout(0.2),\n",
        "    tf.keras.layers.Dense(num_classes, activation='softmax')\n",
        "])"
      ],
      "metadata": {
        "id": "h1UwgaWAOcVM"
      },
      "execution_count": 41,
      "outputs": []
    },
    {
      "cell_type": "markdown",
      "source": [
        "flatten дает 4-7к примерно. добавление dence ухудшает"
      ],
      "metadata": {
        "id": "uTZ-uFmpi5Z5"
      }
    },
    {
      "cell_type": "code",
      "source": [
        "model.compile(optimizer='adam', loss='categorical_crossentropy', metrics=['acc'])\n",
        "# model.summary()"
      ],
      "metadata": {
        "id": "p2TJFfctAV4f"
      },
      "execution_count": 42,
      "outputs": []
    },
    {
      "cell_type": "code",
      "source": [
        "training_history = model.fit(\n",
        "    X_train,\n",
        "    y_train,\n",
        "    validation_data=(X_test, y_test),\n",
        "    epochs=20\n",
        ")"
      ],
      "metadata": {
        "colab": {
          "base_uri": "https://localhost:8080/",
          "height": 804
        },
        "id": "kv83U0wZYku6",
        "outputId": "07b386a4-c52f-4edd-fe98-e0f2e048bda1"
      },
      "execution_count": 43,
      "outputs": [
        {
          "output_type": "stream",
          "name": "stdout",
          "text": [
            "Epoch 1/20\n",
            "\u001b[1m68/68\u001b[0m \u001b[32m━━━━━━━━━━━━━━━━━━━━\u001b[0m\u001b[37m\u001b[0m \u001b[1m15s\u001b[0m 187ms/step - acc: 0.1895 - loss: 2.2233 - val_acc: 0.5701 - val_loss: 1.1983\n",
            "Epoch 2/20\n",
            "\u001b[1m68/68\u001b[0m \u001b[32m━━━━━━━━━━━━━━━━━━━━\u001b[0m\u001b[37m\u001b[0m \u001b[1m11s\u001b[0m 168ms/step - acc: 0.5930 - loss: 1.0453 - val_acc: 0.8118 - val_loss: 0.5223\n",
            "Epoch 3/20\n",
            "\u001b[1m68/68\u001b[0m \u001b[32m━━━━━━━━━━━━━━━━━━━━\u001b[0m\u001b[37m\u001b[0m \u001b[1m19s\u001b[0m 152ms/step - acc: 0.8357 - loss: 0.4358 - val_acc: 0.9077 - val_loss: 0.2282\n",
            "Epoch 4/20\n",
            "\u001b[1m68/68\u001b[0m \u001b[32m━━━━━━━━━━━━━━━━━━━━\u001b[0m\u001b[37m\u001b[0m \u001b[1m22s\u001b[0m 171ms/step - acc: 0.9237 - loss: 0.2198 - val_acc: 0.9391 - val_loss: 0.1628\n",
            "Epoch 5/20\n",
            "\u001b[1m68/68\u001b[0m \u001b[32m━━━━━━━━━━━━━━━━━━━━\u001b[0m\u001b[37m\u001b[0m \u001b[1m20s\u001b[0m 167ms/step - acc: 0.9391 - loss: 0.1513 - val_acc: 0.9631 - val_loss: 0.1071\n",
            "Epoch 6/20\n",
            "\u001b[1m68/68\u001b[0m \u001b[32m━━━━━━━━━━━━━━━━━━━━\u001b[0m\u001b[37m\u001b[0m \u001b[1m21s\u001b[0m 170ms/step - acc: 0.9703 - loss: 0.0876 - val_acc: 0.9797 - val_loss: 0.0608\n",
            "Epoch 7/20\n",
            "\u001b[1m68/68\u001b[0m \u001b[32m━━━━━━━━━━━━━━━━━━━━\u001b[0m\u001b[37m\u001b[0m \u001b[1m22s\u001b[0m 194ms/step - acc: 0.9824 - loss: 0.0683 - val_acc: 0.9908 - val_loss: 0.0371\n",
            "Epoch 8/20\n",
            "\u001b[1m68/68\u001b[0m \u001b[32m━━━━━━━━━━━━━━━━━━━━\u001b[0m\u001b[37m\u001b[0m \u001b[1m13s\u001b[0m 194ms/step - acc: 0.9889 - loss: 0.0385 - val_acc: 0.9908 - val_loss: 0.0291\n",
            "Epoch 9/20\n",
            "\u001b[1m68/68\u001b[0m \u001b[32m━━━━━━━━━━━━━━━━━━━━\u001b[0m\u001b[37m\u001b[0m \u001b[1m11s\u001b[0m 161ms/step - acc: 0.9928 - loss: 0.0291 - val_acc: 0.9889 - val_loss: 0.0283\n",
            "Epoch 10/20\n",
            "\u001b[1m68/68\u001b[0m \u001b[32m━━━━━━━━━━━━━━━━━━━━\u001b[0m\u001b[37m\u001b[0m \u001b[1m21s\u001b[0m 171ms/step - acc: 0.9947 - loss: 0.0212 - val_acc: 0.9889 - val_loss: 0.0475\n",
            "Epoch 11/20\n",
            "\u001b[1m68/68\u001b[0m \u001b[32m━━━━━━━━━━━━━━━━━━━━\u001b[0m\u001b[37m\u001b[0m \u001b[1m22s\u001b[0m 192ms/step - acc: 0.9934 - loss: 0.0327 - val_acc: 0.9871 - val_loss: 0.0201\n",
            "Epoch 12/20\n",
            "\u001b[1m22/68\u001b[0m \u001b[32m━━━━━━\u001b[0m\u001b[37m━━━━━━━━━━━━━━\u001b[0m \u001b[1m9s\u001b[0m 216ms/step - acc: 0.9888 - loss: 0.0266 "
          ]
        },
        {
          "output_type": "error",
          "ename": "KeyboardInterrupt",
          "evalue": "",
          "traceback": [
            "\u001b[0;31m---------------------------------------------------------------------------\u001b[0m",
            "\u001b[0;31mKeyboardInterrupt\u001b[0m                         Traceback (most recent call last)",
            "\u001b[0;32m<ipython-input-43-ee8726aab5a9>\u001b[0m in \u001b[0;36m<cell line: 1>\u001b[0;34m()\u001b[0m\n\u001b[0;32m----> 1\u001b[0;31m training_history = model.fit(\n\u001b[0m\u001b[1;32m      2\u001b[0m     \u001b[0mX_train\u001b[0m\u001b[0;34m,\u001b[0m\u001b[0;34m\u001b[0m\u001b[0;34m\u001b[0m\u001b[0m\n\u001b[1;32m      3\u001b[0m     \u001b[0my_train\u001b[0m\u001b[0;34m,\u001b[0m\u001b[0;34m\u001b[0m\u001b[0;34m\u001b[0m\u001b[0m\n\u001b[1;32m      4\u001b[0m     \u001b[0mvalidation_data\u001b[0m\u001b[0;34m=\u001b[0m\u001b[0;34m(\u001b[0m\u001b[0mX_test\u001b[0m\u001b[0;34m,\u001b[0m \u001b[0my_test\u001b[0m\u001b[0;34m)\u001b[0m\u001b[0;34m,\u001b[0m\u001b[0;34m\u001b[0m\u001b[0;34m\u001b[0m\u001b[0m\n\u001b[1;32m      5\u001b[0m     \u001b[0mepochs\u001b[0m\u001b[0;34m=\u001b[0m\u001b[0;36m20\u001b[0m\u001b[0;34m\u001b[0m\u001b[0;34m\u001b[0m\u001b[0m\n",
            "\u001b[0;32m/usr/local/lib/python3.10/dist-packages/keras/src/utils/traceback_utils.py\u001b[0m in \u001b[0;36merror_handler\u001b[0;34m(*args, **kwargs)\u001b[0m\n\u001b[1;32m    115\u001b[0m         \u001b[0mfiltered_tb\u001b[0m \u001b[0;34m=\u001b[0m \u001b[0;32mNone\u001b[0m\u001b[0;34m\u001b[0m\u001b[0;34m\u001b[0m\u001b[0m\n\u001b[1;32m    116\u001b[0m         \u001b[0;32mtry\u001b[0m\u001b[0;34m:\u001b[0m\u001b[0;34m\u001b[0m\u001b[0;34m\u001b[0m\u001b[0m\n\u001b[0;32m--> 117\u001b[0;31m             \u001b[0;32mreturn\u001b[0m \u001b[0mfn\u001b[0m\u001b[0;34m(\u001b[0m\u001b[0;34m*\u001b[0m\u001b[0margs\u001b[0m\u001b[0;34m,\u001b[0m \u001b[0;34m**\u001b[0m\u001b[0mkwargs\u001b[0m\u001b[0;34m)\u001b[0m\u001b[0;34m\u001b[0m\u001b[0;34m\u001b[0m\u001b[0m\n\u001b[0m\u001b[1;32m    118\u001b[0m         \u001b[0;32mexcept\u001b[0m \u001b[0mException\u001b[0m \u001b[0;32mas\u001b[0m \u001b[0me\u001b[0m\u001b[0;34m:\u001b[0m\u001b[0;34m\u001b[0m\u001b[0;34m\u001b[0m\u001b[0m\n\u001b[1;32m    119\u001b[0m             \u001b[0mfiltered_tb\u001b[0m \u001b[0;34m=\u001b[0m \u001b[0m_process_traceback_frames\u001b[0m\u001b[0;34m(\u001b[0m\u001b[0me\u001b[0m\u001b[0;34m.\u001b[0m\u001b[0m__traceback__\u001b[0m\u001b[0;34m)\u001b[0m\u001b[0;34m\u001b[0m\u001b[0;34m\u001b[0m\u001b[0m\n",
            "\u001b[0;32m/usr/local/lib/python3.10/dist-packages/keras/src/backend/tensorflow/trainer.py\u001b[0m in \u001b[0;36mfit\u001b[0;34m(self, x, y, batch_size, epochs, verbose, callbacks, validation_split, validation_data, shuffle, class_weight, sample_weight, initial_epoch, steps_per_epoch, validation_steps, validation_batch_size, validation_freq)\u001b[0m\n\u001b[1;32m    316\u001b[0m                 \u001b[0;32mfor\u001b[0m \u001b[0mstep\u001b[0m\u001b[0;34m,\u001b[0m \u001b[0miterator\u001b[0m \u001b[0;32min\u001b[0m \u001b[0mepoch_iterator\u001b[0m\u001b[0;34m.\u001b[0m\u001b[0menumerate_epoch\u001b[0m\u001b[0;34m(\u001b[0m\u001b[0;34m)\u001b[0m\u001b[0;34m:\u001b[0m\u001b[0;34m\u001b[0m\u001b[0;34m\u001b[0m\u001b[0m\n\u001b[1;32m    317\u001b[0m                     \u001b[0mcallbacks\u001b[0m\u001b[0;34m.\u001b[0m\u001b[0mon_train_batch_begin\u001b[0m\u001b[0;34m(\u001b[0m\u001b[0mstep\u001b[0m\u001b[0;34m)\u001b[0m\u001b[0;34m\u001b[0m\u001b[0;34m\u001b[0m\u001b[0m\n\u001b[0;32m--> 318\u001b[0;31m                     \u001b[0mlogs\u001b[0m \u001b[0;34m=\u001b[0m \u001b[0mself\u001b[0m\u001b[0;34m.\u001b[0m\u001b[0mtrain_function\u001b[0m\u001b[0;34m(\u001b[0m\u001b[0miterator\u001b[0m\u001b[0;34m)\u001b[0m\u001b[0;34m\u001b[0m\u001b[0;34m\u001b[0m\u001b[0m\n\u001b[0m\u001b[1;32m    319\u001b[0m                     \u001b[0mlogs\u001b[0m \u001b[0;34m=\u001b[0m \u001b[0mself\u001b[0m\u001b[0;34m.\u001b[0m\u001b[0m_pythonify_logs\u001b[0m\u001b[0;34m(\u001b[0m\u001b[0mlogs\u001b[0m\u001b[0;34m)\u001b[0m\u001b[0;34m\u001b[0m\u001b[0;34m\u001b[0m\u001b[0m\n\u001b[1;32m    320\u001b[0m                     \u001b[0mcallbacks\u001b[0m\u001b[0;34m.\u001b[0m\u001b[0mon_train_batch_end\u001b[0m\u001b[0;34m(\u001b[0m\u001b[0mstep\u001b[0m\u001b[0;34m,\u001b[0m \u001b[0mlogs\u001b[0m\u001b[0;34m)\u001b[0m\u001b[0;34m\u001b[0m\u001b[0;34m\u001b[0m\u001b[0m\n",
            "\u001b[0;32m/usr/local/lib/python3.10/dist-packages/tensorflow/python/util/traceback_utils.py\u001b[0m in \u001b[0;36merror_handler\u001b[0;34m(*args, **kwargs)\u001b[0m\n\u001b[1;32m    148\u001b[0m     \u001b[0mfiltered_tb\u001b[0m \u001b[0;34m=\u001b[0m \u001b[0;32mNone\u001b[0m\u001b[0;34m\u001b[0m\u001b[0;34m\u001b[0m\u001b[0m\n\u001b[1;32m    149\u001b[0m     \u001b[0;32mtry\u001b[0m\u001b[0;34m:\u001b[0m\u001b[0;34m\u001b[0m\u001b[0;34m\u001b[0m\u001b[0m\n\u001b[0;32m--> 150\u001b[0;31m       \u001b[0;32mreturn\u001b[0m \u001b[0mfn\u001b[0m\u001b[0;34m(\u001b[0m\u001b[0;34m*\u001b[0m\u001b[0margs\u001b[0m\u001b[0;34m,\u001b[0m \u001b[0;34m**\u001b[0m\u001b[0mkwargs\u001b[0m\u001b[0;34m)\u001b[0m\u001b[0;34m\u001b[0m\u001b[0;34m\u001b[0m\u001b[0m\n\u001b[0m\u001b[1;32m    151\u001b[0m     \u001b[0;32mexcept\u001b[0m \u001b[0mException\u001b[0m \u001b[0;32mas\u001b[0m \u001b[0me\u001b[0m\u001b[0;34m:\u001b[0m\u001b[0;34m\u001b[0m\u001b[0;34m\u001b[0m\u001b[0m\n\u001b[1;32m    152\u001b[0m       \u001b[0mfiltered_tb\u001b[0m \u001b[0;34m=\u001b[0m \u001b[0m_process_traceback_frames\u001b[0m\u001b[0;34m(\u001b[0m\u001b[0me\u001b[0m\u001b[0;34m.\u001b[0m\u001b[0m__traceback__\u001b[0m\u001b[0;34m)\u001b[0m\u001b[0;34m\u001b[0m\u001b[0;34m\u001b[0m\u001b[0m\n",
            "\u001b[0;32m/usr/local/lib/python3.10/dist-packages/tensorflow/python/eager/polymorphic_function/polymorphic_function.py\u001b[0m in \u001b[0;36m__call__\u001b[0;34m(self, *args, **kwds)\u001b[0m\n\u001b[1;32m    831\u001b[0m \u001b[0;34m\u001b[0m\u001b[0m\n\u001b[1;32m    832\u001b[0m       \u001b[0;32mwith\u001b[0m \u001b[0mOptionalXlaContext\u001b[0m\u001b[0;34m(\u001b[0m\u001b[0mself\u001b[0m\u001b[0;34m.\u001b[0m\u001b[0m_jit_compile\u001b[0m\u001b[0;34m)\u001b[0m\u001b[0;34m:\u001b[0m\u001b[0;34m\u001b[0m\u001b[0;34m\u001b[0m\u001b[0m\n\u001b[0;32m--> 833\u001b[0;31m         \u001b[0mresult\u001b[0m \u001b[0;34m=\u001b[0m \u001b[0mself\u001b[0m\u001b[0;34m.\u001b[0m\u001b[0m_call\u001b[0m\u001b[0;34m(\u001b[0m\u001b[0;34m*\u001b[0m\u001b[0margs\u001b[0m\u001b[0;34m,\u001b[0m \u001b[0;34m**\u001b[0m\u001b[0mkwds\u001b[0m\u001b[0;34m)\u001b[0m\u001b[0;34m\u001b[0m\u001b[0;34m\u001b[0m\u001b[0m\n\u001b[0m\u001b[1;32m    834\u001b[0m \u001b[0;34m\u001b[0m\u001b[0m\n\u001b[1;32m    835\u001b[0m       \u001b[0mnew_tracing_count\u001b[0m \u001b[0;34m=\u001b[0m \u001b[0mself\u001b[0m\u001b[0;34m.\u001b[0m\u001b[0mexperimental_get_tracing_count\u001b[0m\u001b[0;34m(\u001b[0m\u001b[0;34m)\u001b[0m\u001b[0;34m\u001b[0m\u001b[0;34m\u001b[0m\u001b[0m\n",
            "\u001b[0;32m/usr/local/lib/python3.10/dist-packages/tensorflow/python/eager/polymorphic_function/polymorphic_function.py\u001b[0m in \u001b[0;36m_call\u001b[0;34m(self, *args, **kwds)\u001b[0m\n\u001b[1;32m    876\u001b[0m       \u001b[0;31m# In this case we have not created variables on the first call. So we can\u001b[0m\u001b[0;34m\u001b[0m\u001b[0;34m\u001b[0m\u001b[0m\n\u001b[1;32m    877\u001b[0m       \u001b[0;31m# run the first trace but we should fail if variables are created.\u001b[0m\u001b[0;34m\u001b[0m\u001b[0;34m\u001b[0m\u001b[0m\n\u001b[0;32m--> 878\u001b[0;31m       results = tracing_compilation.call_function(\n\u001b[0m\u001b[1;32m    879\u001b[0m           \u001b[0margs\u001b[0m\u001b[0;34m,\u001b[0m \u001b[0mkwds\u001b[0m\u001b[0;34m,\u001b[0m \u001b[0mself\u001b[0m\u001b[0;34m.\u001b[0m\u001b[0m_variable_creation_config\u001b[0m\u001b[0;34m\u001b[0m\u001b[0;34m\u001b[0m\u001b[0m\n\u001b[1;32m    880\u001b[0m       )\n",
            "\u001b[0;32m/usr/local/lib/python3.10/dist-packages/tensorflow/python/eager/polymorphic_function/tracing_compilation.py\u001b[0m in \u001b[0;36mcall_function\u001b[0;34m(args, kwargs, tracing_options)\u001b[0m\n\u001b[1;32m    137\u001b[0m   \u001b[0mbound_args\u001b[0m \u001b[0;34m=\u001b[0m \u001b[0mfunction\u001b[0m\u001b[0;34m.\u001b[0m\u001b[0mfunction_type\u001b[0m\u001b[0;34m.\u001b[0m\u001b[0mbind\u001b[0m\u001b[0;34m(\u001b[0m\u001b[0;34m*\u001b[0m\u001b[0margs\u001b[0m\u001b[0;34m,\u001b[0m \u001b[0;34m**\u001b[0m\u001b[0mkwargs\u001b[0m\u001b[0;34m)\u001b[0m\u001b[0;34m\u001b[0m\u001b[0;34m\u001b[0m\u001b[0m\n\u001b[1;32m    138\u001b[0m   \u001b[0mflat_inputs\u001b[0m \u001b[0;34m=\u001b[0m \u001b[0mfunction\u001b[0m\u001b[0;34m.\u001b[0m\u001b[0mfunction_type\u001b[0m\u001b[0;34m.\u001b[0m\u001b[0munpack_inputs\u001b[0m\u001b[0;34m(\u001b[0m\u001b[0mbound_args\u001b[0m\u001b[0;34m)\u001b[0m\u001b[0;34m\u001b[0m\u001b[0;34m\u001b[0m\u001b[0m\n\u001b[0;32m--> 139\u001b[0;31m   return function._call_flat(  # pylint: disable=protected-access\n\u001b[0m\u001b[1;32m    140\u001b[0m       \u001b[0mflat_inputs\u001b[0m\u001b[0;34m,\u001b[0m \u001b[0mcaptured_inputs\u001b[0m\u001b[0;34m=\u001b[0m\u001b[0mfunction\u001b[0m\u001b[0;34m.\u001b[0m\u001b[0mcaptured_inputs\u001b[0m\u001b[0;34m\u001b[0m\u001b[0;34m\u001b[0m\u001b[0m\n\u001b[1;32m    141\u001b[0m   )\n",
            "\u001b[0;32m/usr/local/lib/python3.10/dist-packages/tensorflow/python/eager/polymorphic_function/concrete_function.py\u001b[0m in \u001b[0;36m_call_flat\u001b[0;34m(self, tensor_inputs, captured_inputs)\u001b[0m\n\u001b[1;32m   1320\u001b[0m         and executing_eagerly):\n\u001b[1;32m   1321\u001b[0m       \u001b[0;31m# No tape is watching; skip to running the function.\u001b[0m\u001b[0;34m\u001b[0m\u001b[0;34m\u001b[0m\u001b[0m\n\u001b[0;32m-> 1322\u001b[0;31m       \u001b[0;32mreturn\u001b[0m \u001b[0mself\u001b[0m\u001b[0;34m.\u001b[0m\u001b[0m_inference_function\u001b[0m\u001b[0;34m.\u001b[0m\u001b[0mcall_preflattened\u001b[0m\u001b[0;34m(\u001b[0m\u001b[0margs\u001b[0m\u001b[0;34m)\u001b[0m\u001b[0;34m\u001b[0m\u001b[0;34m\u001b[0m\u001b[0m\n\u001b[0m\u001b[1;32m   1323\u001b[0m     forward_backward = self._select_forward_and_backward_functions(\n\u001b[1;32m   1324\u001b[0m         \u001b[0margs\u001b[0m\u001b[0;34m,\u001b[0m\u001b[0;34m\u001b[0m\u001b[0;34m\u001b[0m\u001b[0m\n",
            "\u001b[0;32m/usr/local/lib/python3.10/dist-packages/tensorflow/python/eager/polymorphic_function/atomic_function.py\u001b[0m in \u001b[0;36mcall_preflattened\u001b[0;34m(self, args)\u001b[0m\n\u001b[1;32m    214\u001b[0m   \u001b[0;32mdef\u001b[0m \u001b[0mcall_preflattened\u001b[0m\u001b[0;34m(\u001b[0m\u001b[0mself\u001b[0m\u001b[0;34m,\u001b[0m \u001b[0margs\u001b[0m\u001b[0;34m:\u001b[0m \u001b[0mSequence\u001b[0m\u001b[0;34m[\u001b[0m\u001b[0mcore\u001b[0m\u001b[0;34m.\u001b[0m\u001b[0mTensor\u001b[0m\u001b[0;34m]\u001b[0m\u001b[0;34m)\u001b[0m \u001b[0;34m->\u001b[0m \u001b[0mAny\u001b[0m\u001b[0;34m:\u001b[0m\u001b[0;34m\u001b[0m\u001b[0;34m\u001b[0m\u001b[0m\n\u001b[1;32m    215\u001b[0m     \u001b[0;34m\"\"\"Calls with flattened tensor inputs and returns the structured output.\"\"\"\u001b[0m\u001b[0;34m\u001b[0m\u001b[0;34m\u001b[0m\u001b[0m\n\u001b[0;32m--> 216\u001b[0;31m     \u001b[0mflat_outputs\u001b[0m \u001b[0;34m=\u001b[0m \u001b[0mself\u001b[0m\u001b[0;34m.\u001b[0m\u001b[0mcall_flat\u001b[0m\u001b[0;34m(\u001b[0m\u001b[0;34m*\u001b[0m\u001b[0margs\u001b[0m\u001b[0;34m)\u001b[0m\u001b[0;34m\u001b[0m\u001b[0;34m\u001b[0m\u001b[0m\n\u001b[0m\u001b[1;32m    217\u001b[0m     \u001b[0;32mreturn\u001b[0m \u001b[0mself\u001b[0m\u001b[0;34m.\u001b[0m\u001b[0mfunction_type\u001b[0m\u001b[0;34m.\u001b[0m\u001b[0mpack_output\u001b[0m\u001b[0;34m(\u001b[0m\u001b[0mflat_outputs\u001b[0m\u001b[0;34m)\u001b[0m\u001b[0;34m\u001b[0m\u001b[0;34m\u001b[0m\u001b[0m\n\u001b[1;32m    218\u001b[0m \u001b[0;34m\u001b[0m\u001b[0m\n",
            "\u001b[0;32m/usr/local/lib/python3.10/dist-packages/tensorflow/python/eager/polymorphic_function/atomic_function.py\u001b[0m in \u001b[0;36mcall_flat\u001b[0;34m(self, *args)\u001b[0m\n\u001b[1;32m    249\u001b[0m         \u001b[0;32mwith\u001b[0m \u001b[0mrecord\u001b[0m\u001b[0;34m.\u001b[0m\u001b[0mstop_recording\u001b[0m\u001b[0;34m(\u001b[0m\u001b[0;34m)\u001b[0m\u001b[0;34m:\u001b[0m\u001b[0;34m\u001b[0m\u001b[0;34m\u001b[0m\u001b[0m\n\u001b[1;32m    250\u001b[0m           \u001b[0;32mif\u001b[0m \u001b[0mself\u001b[0m\u001b[0;34m.\u001b[0m\u001b[0m_bound_context\u001b[0m\u001b[0;34m.\u001b[0m\u001b[0mexecuting_eagerly\u001b[0m\u001b[0;34m(\u001b[0m\u001b[0;34m)\u001b[0m\u001b[0;34m:\u001b[0m\u001b[0;34m\u001b[0m\u001b[0;34m\u001b[0m\u001b[0m\n\u001b[0;32m--> 251\u001b[0;31m             outputs = self._bound_context.call_function(\n\u001b[0m\u001b[1;32m    252\u001b[0m                 \u001b[0mself\u001b[0m\u001b[0;34m.\u001b[0m\u001b[0mname\u001b[0m\u001b[0;34m,\u001b[0m\u001b[0;34m\u001b[0m\u001b[0;34m\u001b[0m\u001b[0m\n\u001b[1;32m    253\u001b[0m                 \u001b[0mlist\u001b[0m\u001b[0;34m(\u001b[0m\u001b[0margs\u001b[0m\u001b[0;34m)\u001b[0m\u001b[0;34m,\u001b[0m\u001b[0;34m\u001b[0m\u001b[0;34m\u001b[0m\u001b[0m\n",
            "\u001b[0;32m/usr/local/lib/python3.10/dist-packages/tensorflow/python/eager/context.py\u001b[0m in \u001b[0;36mcall_function\u001b[0;34m(self, name, tensor_inputs, num_outputs)\u001b[0m\n\u001b[1;32m   1550\u001b[0m     \u001b[0mcancellation_context\u001b[0m \u001b[0;34m=\u001b[0m \u001b[0mcancellation\u001b[0m\u001b[0;34m.\u001b[0m\u001b[0mcontext\u001b[0m\u001b[0;34m(\u001b[0m\u001b[0;34m)\u001b[0m\u001b[0;34m\u001b[0m\u001b[0;34m\u001b[0m\u001b[0m\n\u001b[1;32m   1551\u001b[0m     \u001b[0;32mif\u001b[0m \u001b[0mcancellation_context\u001b[0m \u001b[0;32mis\u001b[0m \u001b[0;32mNone\u001b[0m\u001b[0;34m:\u001b[0m\u001b[0;34m\u001b[0m\u001b[0;34m\u001b[0m\u001b[0m\n\u001b[0;32m-> 1552\u001b[0;31m       outputs = execute.execute(\n\u001b[0m\u001b[1;32m   1553\u001b[0m           \u001b[0mname\u001b[0m\u001b[0;34m.\u001b[0m\u001b[0mdecode\u001b[0m\u001b[0;34m(\u001b[0m\u001b[0;34m\"utf-8\"\u001b[0m\u001b[0;34m)\u001b[0m\u001b[0;34m,\u001b[0m\u001b[0;34m\u001b[0m\u001b[0;34m\u001b[0m\u001b[0m\n\u001b[1;32m   1554\u001b[0m           \u001b[0mnum_outputs\u001b[0m\u001b[0;34m=\u001b[0m\u001b[0mnum_outputs\u001b[0m\u001b[0;34m,\u001b[0m\u001b[0;34m\u001b[0m\u001b[0;34m\u001b[0m\u001b[0m\n",
            "\u001b[0;32m/usr/local/lib/python3.10/dist-packages/tensorflow/python/eager/execute.py\u001b[0m in \u001b[0;36mquick_execute\u001b[0;34m(op_name, num_outputs, inputs, attrs, ctx, name)\u001b[0m\n\u001b[1;32m     51\u001b[0m   \u001b[0;32mtry\u001b[0m\u001b[0;34m:\u001b[0m\u001b[0;34m\u001b[0m\u001b[0;34m\u001b[0m\u001b[0m\n\u001b[1;32m     52\u001b[0m     \u001b[0mctx\u001b[0m\u001b[0;34m.\u001b[0m\u001b[0mensure_initialized\u001b[0m\u001b[0;34m(\u001b[0m\u001b[0;34m)\u001b[0m\u001b[0;34m\u001b[0m\u001b[0;34m\u001b[0m\u001b[0m\n\u001b[0;32m---> 53\u001b[0;31m     tensors = pywrap_tfe.TFE_Py_Execute(ctx._handle, device_name, op_name,\n\u001b[0m\u001b[1;32m     54\u001b[0m                                         inputs, attrs, num_outputs)\n\u001b[1;32m     55\u001b[0m   \u001b[0;32mexcept\u001b[0m \u001b[0mcore\u001b[0m\u001b[0;34m.\u001b[0m\u001b[0m_NotOkStatusException\u001b[0m \u001b[0;32mas\u001b[0m \u001b[0me\u001b[0m\u001b[0;34m:\u001b[0m\u001b[0;34m\u001b[0m\u001b[0;34m\u001b[0m\u001b[0m\n",
            "\u001b[0;31mKeyboardInterrupt\u001b[0m: "
          ]
        }
      ]
    },
    {
      "cell_type": "code",
      "source": [
        "modela = tf.keras.models.Sequential([\n",
        "  data_augmentation,\n",
        "  model\n",
        "])\n",
        "modela.compile(optimizer='adam', loss='categorical_crossentropy', metrics=['acc'])\n",
        "training_history = modela.fit(\n",
        "    X_train,\n",
        "    y_train,\n",
        "    validation_data=(X_test, y_test),\n",
        "    epochs=15\n",
        ")"
      ],
      "metadata": {
        "colab": {
          "base_uri": "https://localhost:8080/",
          "height": 569
        },
        "id": "3eX42HZ8aKgO",
        "outputId": "fe15b03b-17e0-43ee-e86f-8b3d2c40e4eb"
      },
      "execution_count": 46,
      "outputs": [
        {
          "output_type": "stream",
          "name": "stdout",
          "text": [
            "Epoch 1/15\n",
            "\u001b[1m68/68\u001b[0m \u001b[32m━━━━━━━━━━━━━━━━━━━━\u001b[0m\u001b[37m\u001b[0m \u001b[1m15s\u001b[0m 188ms/step - acc: 0.9636 - loss: 0.0000e+00 - val_acc: 0.9889 - val_loss: 0.0000e+00\n",
            "Epoch 2/15\n",
            "\u001b[1m68/68\u001b[0m \u001b[32m━━━━━━━━━━━━━━━━━━━━\u001b[0m\u001b[37m\u001b[0m \u001b[1m21s\u001b[0m 190ms/step - acc: 0.9811 - loss: 0.0000e+00 - val_acc: 0.9945 - val_loss: 0.0000e+00\n",
            "Epoch 3/15\n",
            "\u001b[1m68/68\u001b[0m \u001b[32m━━━━━━━━━━━━━━━━━━━━\u001b[0m\u001b[37m\u001b[0m \u001b[1m20s\u001b[0m 180ms/step - acc: 0.9864 - loss: 0.0000e+00 - val_acc: 0.9889 - val_loss: 0.0000e+00\n",
            "Epoch 4/15\n",
            "\u001b[1m68/68\u001b[0m \u001b[32m━━━━━━━━━━━━━━━━━━━━\u001b[0m\u001b[37m\u001b[0m \u001b[1m22s\u001b[0m 198ms/step - acc: 0.9881 - loss: 0.0000e+00 - val_acc: 0.9852 - val_loss: 0.0000e+00\n",
            "Epoch 5/15\n",
            "\u001b[1m68/68\u001b[0m \u001b[32m━━━━━━━━━━━━━━━━━━━━\u001b[0m\u001b[37m\u001b[0m \u001b[1m19s\u001b[0m 181ms/step - acc: 0.9832 - loss: 0.0000e+00 - val_acc: 0.9889 - val_loss: 0.0000e+00\n",
            "Epoch 6/15\n"
          ]
        },
        {
          "output_type": "error",
          "ename": "KeyboardInterrupt",
          "evalue": "",
          "traceback": [
            "\u001b[0;31m---------------------------------------------------------------------------\u001b[0m",
            "\u001b[0;31mKeyboardInterrupt\u001b[0m                         Traceback (most recent call last)",
            "\u001b[0;32m<ipython-input-46-b19ed61de419>\u001b[0m in \u001b[0;36m<cell line: 6>\u001b[0;34m()\u001b[0m\n\u001b[1;32m      4\u001b[0m ])\n\u001b[1;32m      5\u001b[0m \u001b[0mmodela\u001b[0m\u001b[0;34m.\u001b[0m\u001b[0mcompile\u001b[0m\u001b[0;34m(\u001b[0m\u001b[0moptimizer\u001b[0m\u001b[0;34m=\u001b[0m\u001b[0;34m'adam'\u001b[0m\u001b[0;34m,\u001b[0m \u001b[0mloss\u001b[0m\u001b[0;34m=\u001b[0m\u001b[0;34m'categorical_crossentropy'\u001b[0m\u001b[0;34m,\u001b[0m \u001b[0mmetrics\u001b[0m\u001b[0;34m=\u001b[0m\u001b[0;34m[\u001b[0m\u001b[0;34m'acc'\u001b[0m\u001b[0;34m]\u001b[0m\u001b[0;34m)\u001b[0m\u001b[0;34m\u001b[0m\u001b[0;34m\u001b[0m\u001b[0m\n\u001b[0;32m----> 6\u001b[0;31m training_history = modela.fit(\n\u001b[0m\u001b[1;32m      7\u001b[0m     \u001b[0mX_train\u001b[0m\u001b[0;34m,\u001b[0m\u001b[0;34m\u001b[0m\u001b[0;34m\u001b[0m\u001b[0m\n\u001b[1;32m      8\u001b[0m     \u001b[0my_train\u001b[0m\u001b[0;34m,\u001b[0m\u001b[0;34m\u001b[0m\u001b[0;34m\u001b[0m\u001b[0m\n",
            "\u001b[0;32m/usr/local/lib/python3.10/dist-packages/keras/src/utils/traceback_utils.py\u001b[0m in \u001b[0;36merror_handler\u001b[0;34m(*args, **kwargs)\u001b[0m\n\u001b[1;32m    115\u001b[0m         \u001b[0mfiltered_tb\u001b[0m \u001b[0;34m=\u001b[0m \u001b[0;32mNone\u001b[0m\u001b[0;34m\u001b[0m\u001b[0;34m\u001b[0m\u001b[0m\n\u001b[1;32m    116\u001b[0m         \u001b[0;32mtry\u001b[0m\u001b[0;34m:\u001b[0m\u001b[0;34m\u001b[0m\u001b[0;34m\u001b[0m\u001b[0m\n\u001b[0;32m--> 117\u001b[0;31m             \u001b[0;32mreturn\u001b[0m \u001b[0mfn\u001b[0m\u001b[0;34m(\u001b[0m\u001b[0;34m*\u001b[0m\u001b[0margs\u001b[0m\u001b[0;34m,\u001b[0m \u001b[0;34m**\u001b[0m\u001b[0mkwargs\u001b[0m\u001b[0;34m)\u001b[0m\u001b[0;34m\u001b[0m\u001b[0;34m\u001b[0m\u001b[0m\n\u001b[0m\u001b[1;32m    118\u001b[0m         \u001b[0;32mexcept\u001b[0m \u001b[0mException\u001b[0m \u001b[0;32mas\u001b[0m \u001b[0me\u001b[0m\u001b[0;34m:\u001b[0m\u001b[0;34m\u001b[0m\u001b[0;34m\u001b[0m\u001b[0m\n\u001b[1;32m    119\u001b[0m             \u001b[0mfiltered_tb\u001b[0m \u001b[0;34m=\u001b[0m \u001b[0m_process_traceback_frames\u001b[0m\u001b[0;34m(\u001b[0m\u001b[0me\u001b[0m\u001b[0;34m.\u001b[0m\u001b[0m__traceback__\u001b[0m\u001b[0;34m)\u001b[0m\u001b[0;34m\u001b[0m\u001b[0;34m\u001b[0m\u001b[0m\n",
            "\u001b[0;32m/usr/local/lib/python3.10/dist-packages/keras/src/backend/tensorflow/trainer.py\u001b[0m in \u001b[0;36mfit\u001b[0;34m(self, x, y, batch_size, epochs, verbose, callbacks, validation_split, validation_data, shuffle, class_weight, sample_weight, initial_epoch, steps_per_epoch, validation_steps, validation_batch_size, validation_freq)\u001b[0m\n\u001b[1;32m    315\u001b[0m             \u001b[0;32mwith\u001b[0m \u001b[0mepoch_iterator\u001b[0m\u001b[0;34m.\u001b[0m\u001b[0mcatch_stop_iteration\u001b[0m\u001b[0;34m(\u001b[0m\u001b[0;34m)\u001b[0m\u001b[0;34m:\u001b[0m\u001b[0;34m\u001b[0m\u001b[0;34m\u001b[0m\u001b[0m\n\u001b[1;32m    316\u001b[0m                 \u001b[0;32mfor\u001b[0m \u001b[0mstep\u001b[0m\u001b[0;34m,\u001b[0m \u001b[0miterator\u001b[0m \u001b[0;32min\u001b[0m \u001b[0mepoch_iterator\u001b[0m\u001b[0;34m.\u001b[0m\u001b[0menumerate_epoch\u001b[0m\u001b[0;34m(\u001b[0m\u001b[0;34m)\u001b[0m\u001b[0;34m:\u001b[0m\u001b[0;34m\u001b[0m\u001b[0;34m\u001b[0m\u001b[0m\n\u001b[0;32m--> 317\u001b[0;31m                     \u001b[0mcallbacks\u001b[0m\u001b[0;34m.\u001b[0m\u001b[0mon_train_batch_begin\u001b[0m\u001b[0;34m(\u001b[0m\u001b[0mstep\u001b[0m\u001b[0;34m)\u001b[0m\u001b[0;34m\u001b[0m\u001b[0;34m\u001b[0m\u001b[0m\n\u001b[0m\u001b[1;32m    318\u001b[0m                     \u001b[0mlogs\u001b[0m \u001b[0;34m=\u001b[0m \u001b[0mself\u001b[0m\u001b[0;34m.\u001b[0m\u001b[0mtrain_function\u001b[0m\u001b[0;34m(\u001b[0m\u001b[0miterator\u001b[0m\u001b[0;34m)\u001b[0m\u001b[0;34m\u001b[0m\u001b[0;34m\u001b[0m\u001b[0m\n\u001b[1;32m    319\u001b[0m                     \u001b[0mlogs\u001b[0m \u001b[0;34m=\u001b[0m \u001b[0mself\u001b[0m\u001b[0;34m.\u001b[0m\u001b[0m_pythonify_logs\u001b[0m\u001b[0;34m(\u001b[0m\u001b[0mlogs\u001b[0m\u001b[0;34m)\u001b[0m\u001b[0;34m\u001b[0m\u001b[0;34m\u001b[0m\u001b[0m\n",
            "\u001b[0;32m/usr/local/lib/python3.10/dist-packages/keras/src/callbacks/callback_list.py\u001b[0m in \u001b[0;36mon_train_batch_begin\u001b[0;34m(self, batch, logs)\u001b[0m\n\u001b[1;32m     96\u001b[0m             \u001b[0mcallback\u001b[0m\u001b[0;34m.\u001b[0m\u001b[0mon_epoch_end\u001b[0m\u001b[0;34m(\u001b[0m\u001b[0mepoch\u001b[0m\u001b[0;34m,\u001b[0m \u001b[0mlogs\u001b[0m\u001b[0;34m)\u001b[0m\u001b[0;34m\u001b[0m\u001b[0;34m\u001b[0m\u001b[0m\n\u001b[1;32m     97\u001b[0m \u001b[0;34m\u001b[0m\u001b[0m\n\u001b[0;32m---> 98\u001b[0;31m     \u001b[0;32mdef\u001b[0m \u001b[0mon_train_batch_begin\u001b[0m\u001b[0;34m(\u001b[0m\u001b[0mself\u001b[0m\u001b[0;34m,\u001b[0m \u001b[0mbatch\u001b[0m\u001b[0;34m,\u001b[0m \u001b[0mlogs\u001b[0m\u001b[0;34m=\u001b[0m\u001b[0;32mNone\u001b[0m\u001b[0;34m)\u001b[0m\u001b[0;34m:\u001b[0m\u001b[0;34m\u001b[0m\u001b[0;34m\u001b[0m\u001b[0m\n\u001b[0m\u001b[1;32m     99\u001b[0m         \u001b[0mlogs\u001b[0m \u001b[0;34m=\u001b[0m \u001b[0mlogs\u001b[0m \u001b[0;32mor\u001b[0m \u001b[0;34m{\u001b[0m\u001b[0;34m}\u001b[0m\u001b[0;34m\u001b[0m\u001b[0;34m\u001b[0m\u001b[0m\n\u001b[1;32m    100\u001b[0m         \u001b[0;32mfor\u001b[0m \u001b[0mcallback\u001b[0m \u001b[0;32min\u001b[0m \u001b[0mself\u001b[0m\u001b[0;34m.\u001b[0m\u001b[0mcallbacks\u001b[0m\u001b[0;34m:\u001b[0m\u001b[0;34m\u001b[0m\u001b[0;34m\u001b[0m\u001b[0m\n",
            "\u001b[0;31mKeyboardInterrupt\u001b[0m: "
          ]
        }
      ]
    },
    {
      "cell_type": "code",
      "source": [
        "len(labels)"
      ],
      "metadata": {
        "colab": {
          "base_uri": "https://localhost:8080/"
        },
        "id": "UaYjSCtWWOQc",
        "outputId": "dc940931-18df-4f8e-e0c4-7fee85d718c7"
      },
      "execution_count": 30,
      "outputs": [
        {
          "output_type": "execute_result",
          "data": {
            "text/plain": [
              "2710"
            ]
          },
          "metadata": {},
          "execution_count": 30
        }
      ]
    },
    {
      "cell_type": "code",
      "source": [
        "len(y_train)"
      ],
      "metadata": {
        "colab": {
          "base_uri": "https://localhost:8080/"
        },
        "id": "HnPgwtmDWzmj",
        "outputId": "8268f0b2-b14b-4a74-9507-c79860fff43c"
      },
      "execution_count": 32,
      "outputs": [
        {
          "output_type": "execute_result",
          "data": {
            "text/plain": [
              "2168"
            ]
          },
          "metadata": {},
          "execution_count": 32
        }
      ]
    },
    {
      "cell_type": "code",
      "source": [
        "len(y_test)"
      ],
      "metadata": {
        "colab": {
          "base_uri": "https://localhost:8080/"
        },
        "id": "2qNrnz_0WSzC",
        "outputId": "2876da61-932d-4e0c-a6cf-7d7863bf7e1a"
      },
      "execution_count": 47,
      "outputs": [
        {
          "output_type": "execute_result",
          "data": {
            "text/plain": [
              "542"
            ]
          },
          "metadata": {},
          "execution_count": 47
        }
      ]
    },
    {
      "cell_type": "markdown",
      "source": [
        "Была создана модель с 3 сверточными слоями и 1(2) полносвязными слоями. Тестирование проводилось на выборке размером 542. Модель доходит до 98-99% точности. Модель, в которую добавили аугментацию данных, обучается до сильно большей точности на первых эпохах.\n",
        "\n",
        "Ссылка на эту colab https://colab.research.google.com/drive/1pVb0ksvD1eFD0A2sP-fcn-oYBJJ1OXTP?usp=sharing\n"
      ],
      "metadata": {
        "id": "heNLlWZ2WMGn"
      }
    }
  ]
}